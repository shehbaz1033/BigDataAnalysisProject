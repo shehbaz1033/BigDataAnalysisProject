{
  "nbformat": 4,
  "nbformat_minor": 0,
  "metadata": {
    "colab": {
      "provenance": [],
      "authorship_tag": "ABX9TyNcc7EowzqcZAJP9H0jiFJj",
      "include_colab_link": true
    },
    "kernelspec": {
      "name": "python3",
      "display_name": "Python 3"
    },
    "language_info": {
      "name": "python"
    }
  },
  "cells": [
    {
      "cell_type": "markdown",
      "metadata": {
        "id": "view-in-github",
        "colab_type": "text"
      },
      "source": [
        "<a href=\"https://colab.research.google.com/github/shehbaz1033/BigDataAnalysisProject/blob/main/BigDataProject.ipynb\" target=\"_parent\"><img src=\"https://colab.research.google.com/assets/colab-badge.svg\" alt=\"Open In Colab\"/></a>"
      ]
    },
    {
      "cell_type": "code",
      "execution_count": null,
      "metadata": {
        "id": "i7Qmh80M2CGl"
      },
      "outputs": [],
      "source": [
        "import pandas as pd\n",
        "\n",
        "df = pd.read_csv('shahbazfinalresult.csv')\n",
        "df2 = pd.read_csv('aditya_final_result.csv')\n",
        "df3 = pd.read_csv('amey_sample_final.csv')\n",
        "df4 = pd.read_csv('Saylee_Pawar_Data.csv')"
      ]
    },
    {
      "cell_type": "code",
      "source": [
        "df1 = pd.read_csv('SSR-final.csv')"
      ],
      "metadata": {
        "id": "ojPvZuNXyI82"
      },
      "execution_count": null,
      "outputs": []
    },
    {
      "cell_type": "code",
      "source": [
        "df.info()\n",
        "df1.info()\n",
        "df2.info()\n",
        "df3.info()\n",
        "df4.info()\n"
      ],
      "metadata": {
        "colab": {
          "base_uri": "https://localhost:8080/"
        },
        "id": "9DFZQdYw3a1q",
        "outputId": "388402c6-3b04-4026-8e7c-fbc343363cc7"
      },
      "execution_count": null,
      "outputs": [
        {
          "output_type": "stream",
          "name": "stdout",
          "text": [
            "<class 'pandas.core.frame.DataFrame'>\n",
            "RangeIndex: 30000 entries, 0 to 29999\n",
            "Data columns (total 20 columns):\n",
            " #   Column             Non-Null Count  Dtype  \n",
            "---  ------             --------------  -----  \n",
            " 0   Year               30000 non-null  int64  \n",
            " 1   Month              30000 non-null  int64  \n",
            " 2   DayofMonth         30000 non-null  int64  \n",
            " 3   DayOfWeek          30000 non-null  int64  \n",
            " 4   DepTime            30000 non-null  float64\n",
            " 5   CRSDepTime         30000 non-null  int64  \n",
            " 6   ArrTime            30000 non-null  float64\n",
            " 7   CRSArrTime         30000 non-null  int64  \n",
            " 8   UniqueCarrier      30000 non-null  object \n",
            " 9   FlightNum          30000 non-null  int64  \n",
            " 10  ActualElapsedTime  30000 non-null  float64\n",
            " 11  CRSElapsedTime     30000 non-null  int64  \n",
            " 12  ArrDelay           30000 non-null  float64\n",
            " 13  DepDelay           30000 non-null  float64\n",
            " 14  Origin             30000 non-null  object \n",
            " 15  Dest               30000 non-null  object \n",
            " 16  Distance           30000 non-null  float64\n",
            " 17  Cancelled          30000 non-null  int64  \n",
            " 18  Diverted           30000 non-null  int64  \n",
            " 19  Delayed            30000 non-null  object \n",
            "dtypes: float64(6), int64(10), object(4)\n",
            "memory usage: 4.6+ MB\n",
            "<class 'pandas.core.frame.DataFrame'>\n",
            "RangeIndex: 30000 entries, 0 to 29999\n",
            "Data columns (total 20 columns):\n",
            " #   Column             Non-Null Count  Dtype  \n",
            "---  ------             --------------  -----  \n",
            " 0   Year               30000 non-null  int64  \n",
            " 1   Month              30000 non-null  int64  \n",
            " 2   DayofMonth         30000 non-null  int64  \n",
            " 3   DayOfWeek          30000 non-null  int64  \n",
            " 4   DepTime            30000 non-null  float64\n",
            " 5   CRSDepTime         30000 non-null  int64  \n",
            " 6   ArrTime            30000 non-null  float64\n",
            " 7   CRSArrTime         30000 non-null  int64  \n",
            " 8   UniqueCarrier      30000 non-null  object \n",
            " 9   FlightNum          30000 non-null  int64  \n",
            " 10  ActualElapsedTime  30000 non-null  float64\n",
            " 11  CRSElapsedTime     30000 non-null  int64  \n",
            " 12  ArrDelay           30000 non-null  float64\n",
            " 13  DepDelay           30000 non-null  float64\n",
            " 14  Origin             30000 non-null  object \n",
            " 15  Dest               30000 non-null  object \n",
            " 16  Distance           30000 non-null  float64\n",
            " 17  Cancelled          30000 non-null  int64  \n",
            " 18  Diverted           30000 non-null  int64  \n",
            " 19  Delayed            30000 non-null  object \n",
            "dtypes: float64(6), int64(10), object(4)\n",
            "memory usage: 4.6+ MB\n",
            "<class 'pandas.core.frame.DataFrame'>\n",
            "RangeIndex: 30000 entries, 0 to 29999\n",
            "Data columns (total 20 columns):\n",
            " #   Column             Non-Null Count  Dtype  \n",
            "---  ------             --------------  -----  \n",
            " 0   Year               30000 non-null  int64  \n",
            " 1   Month              30000 non-null  int64  \n",
            " 2   DayofMonth         30000 non-null  int64  \n",
            " 3   DayOfWeek          30000 non-null  int64  \n",
            " 4   DepTime            30000 non-null  float64\n",
            " 5   CRSDepTime         30000 non-null  int64  \n",
            " 6   ArrTime            30000 non-null  float64\n",
            " 7   CRSArrTime         30000 non-null  int64  \n",
            " 8   UniqueCarrier      30000 non-null  object \n",
            " 9   FlightNum          30000 non-null  int64  \n",
            " 10  ActualElapsedTime  30000 non-null  float64\n",
            " 11  CRSElapsedTime     30000 non-null  int64  \n",
            " 12  ArrDelay           30000 non-null  float64\n",
            " 13  DepDelay           30000 non-null  float64\n",
            " 14  Origin             30000 non-null  object \n",
            " 15  Dest               30000 non-null  object \n",
            " 16  Distance           30000 non-null  float64\n",
            " 17  Cancelled          30000 non-null  int64  \n",
            " 18  Diverted           30000 non-null  int64  \n",
            " 19  Delayed            30000 non-null  object \n",
            "dtypes: float64(6), int64(10), object(4)\n",
            "memory usage: 4.6+ MB\n",
            "<class 'pandas.core.frame.DataFrame'>\n",
            "RangeIndex: 30000 entries, 0 to 29999\n",
            "Data columns (total 20 columns):\n",
            " #   Column             Non-Null Count  Dtype  \n",
            "---  ------             --------------  -----  \n",
            " 0   Year               30000 non-null  int64  \n",
            " 1   Month              30000 non-null  int64  \n",
            " 2   DayofMonth         30000 non-null  int64  \n",
            " 3   DayOfWeek          30000 non-null  int64  \n",
            " 4   DepTime            30000 non-null  float64\n",
            " 5   CRSDepTime         30000 non-null  int64  \n",
            " 6   ArrTime            30000 non-null  float64\n",
            " 7   CRSArrTime         30000 non-null  int64  \n",
            " 8   UniqueCarrier      30000 non-null  object \n",
            " 9   FlightNum          30000 non-null  int64  \n",
            " 10  ActualElapsedTime  30000 non-null  float64\n",
            " 11  CRSElapsedTime     30000 non-null  int64  \n",
            " 12  ArrDelay           30000 non-null  float64\n",
            " 13  DepDelay           30000 non-null  float64\n",
            " 14  Origin             30000 non-null  object \n",
            " 15  Dest               30000 non-null  object \n",
            " 16  Distance           30000 non-null  float64\n",
            " 17  Cancelled          30000 non-null  int64  \n",
            " 18  Diverted           30000 non-null  int64  \n",
            " 19  Delayed            30000 non-null  object \n",
            "dtypes: float64(6), int64(10), object(4)\n",
            "memory usage: 4.6+ MB\n",
            "<class 'pandas.core.frame.DataFrame'>\n",
            "RangeIndex: 30000 entries, 0 to 29999\n",
            "Data columns (total 20 columns):\n",
            " #   Column             Non-Null Count  Dtype  \n",
            "---  ------             --------------  -----  \n",
            " 0   Year               30000 non-null  int64  \n",
            " 1   Month              30000 non-null  int64  \n",
            " 2   DayofMonth         30000 non-null  int64  \n",
            " 3   DayOfWeek          30000 non-null  int64  \n",
            " 4   DepTime            30000 non-null  float64\n",
            " 5   CRSDepTime         30000 non-null  int64  \n",
            " 6   ArrTime            30000 non-null  float64\n",
            " 7   CRSArrTime         30000 non-null  int64  \n",
            " 8   UniqueCarrier      30000 non-null  object \n",
            " 9   FlightNum          30000 non-null  int64  \n",
            " 10  ActualElapsedTime  30000 non-null  float64\n",
            " 11  CRSElapsedTime     30000 non-null  int64  \n",
            " 12  ArrDelay           30000 non-null  float64\n",
            " 13  DepDelay           30000 non-null  float64\n",
            " 14  Origin             30000 non-null  object \n",
            " 15  Dest               30000 non-null  object \n",
            " 16  Distance           30000 non-null  float64\n",
            " 17  Cancelled          30000 non-null  int64  \n",
            " 18  Diverted           30000 non-null  int64  \n",
            " 19  Delayed            30000 non-null  object \n",
            "dtypes: float64(6), int64(10), object(4)\n",
            "memory usage: 4.6+ MB\n"
          ]
        }
      ]
    },
    {
      "cell_type": "code",
      "source": [],
      "metadata": {
        "id": "AmQ6u392yl_U"
      },
      "execution_count": null,
      "outputs": []
    },
    {
      "cell_type": "code",
      "source": [
        "import pandas as pd\n",
        "\n",
        "# List of columns to convert to float\n",
        "float_columns = ['DepTime', 'ArrTime', 'ActualElapsedTime', 'ArrDelay', 'DepDelay', 'Distance']\n",
        "\n",
        "# Convert specified columns to float\n",
        "df1[float_columns] = df1[float_columns].astype(float)\n",
        "\n",
        "# Verify the changes\n",
        "print(df1.dtypes)\n"
      ],
      "metadata": {
        "colab": {
          "base_uri": "https://localhost:8080/"
        },
        "id": "-dCff7DD4H_5",
        "outputId": "7bd4ba13-7231-45fa-90c2-49173b5d7525"
      },
      "execution_count": null,
      "outputs": [
        {
          "output_type": "stream",
          "name": "stdout",
          "text": [
            "Year                   int64\n",
            "Month                  int64\n",
            "DayofMonth             int64\n",
            "DayOfWeek              int64\n",
            "DepTime              float64\n",
            "CRSDepTime             int64\n",
            "ArrTime              float64\n",
            "CRSArrTime             int64\n",
            "UniqueCarrier         object\n",
            "FlightNum              int64\n",
            "ActualElapsedTime    float64\n",
            "CRSElapsedTime         int64\n",
            "AirTime                int64\n",
            "ArrDelay             float64\n",
            "DepDelay             float64\n",
            "Origin                object\n",
            "Dest                  object\n",
            "Distance             float64\n",
            "Cancelled              int64\n",
            "Diverted               int64\n",
            "Delayed               object\n",
            "dtype: object\n"
          ]
        }
      ]
    },
    {
      "cell_type": "code",
      "source": [
        "df1.drop('AirTime', axis=1, inplace=True)"
      ],
      "metadata": {
        "id": "9h1Qz9dC3_aK"
      },
      "execution_count": null,
      "outputs": []
    },
    {
      "cell_type": "code",
      "source": [
        "df2.drop('TailNum', axis=1, inplace=True)\n",
        "df2.drop('AirTime', axis=1, inplace=True)\n",
        "df2.drop('TaxiIn', axis=1, inplace=True)\n",
        "df2.drop('TaxiOut', axis=1, inplace=True)\n",
        "df2.drop('CancellationCode', axis=1, inplace=True)\n",
        "df2.drop('CarrierDelay', axis=1, inplace=True)\n",
        "df2.drop('WeatherDelay', axis=1, inplace=True)\n",
        "df2.drop('NASDelay', axis=1, inplace=True)\n",
        "df2.drop('SecurityDelay', axis=1, inplace=True)\n",
        "df2.drop('LateAircraftDelay', axis=1, inplace=True)\n"
      ],
      "metadata": {
        "id": "4Q4z2I5Q6TzC"
      },
      "execution_count": null,
      "outputs": []
    },
    {
      "cell_type": "code",
      "source": [
        "df2.info()"
      ],
      "metadata": {
        "colab": {
          "base_uri": "https://localhost:8080/"
        },
        "id": "ESHNH9zy8CCq",
        "outputId": "88625345-020c-4031-fba5-3af4d95d48f5"
      },
      "execution_count": null,
      "outputs": [
        {
          "output_type": "stream",
          "name": "stdout",
          "text": [
            "<class 'pandas.core.frame.DataFrame'>\n",
            "RangeIndex: 30000 entries, 0 to 29999\n",
            "Data columns (total 20 columns):\n",
            " #   Column             Non-Null Count  Dtype  \n",
            "---  ------             --------------  -----  \n",
            " 0   Year               30000 non-null  int64  \n",
            " 1   Month              30000 non-null  int64  \n",
            " 2   DayofMonth         30000 non-null  int64  \n",
            " 3   DayOfWeek          30000 non-null  int64  \n",
            " 4   DepTime            30000 non-null  float64\n",
            " 5   CRSDepTime         30000 non-null  int64  \n",
            " 6   ArrTime            30000 non-null  float64\n",
            " 7   CRSArrTime         30000 non-null  int64  \n",
            " 8   UniqueCarrier      30000 non-null  object \n",
            " 9   FlightNum          30000 non-null  int64  \n",
            " 10  ActualElapsedTime  30000 non-null  float64\n",
            " 11  CRSElapsedTime     30000 non-null  int64  \n",
            " 12  ArrDelay           30000 non-null  float64\n",
            " 13  DepDelay           30000 non-null  float64\n",
            " 14  Origin             30000 non-null  object \n",
            " 15  Dest               30000 non-null  object \n",
            " 16  Distance           30000 non-null  float64\n",
            " 17  Cancelled          30000 non-null  int64  \n",
            " 18  Diverted           30000 non-null  int64  \n",
            " 19  Delayed            30000 non-null  object \n",
            "dtypes: float64(6), int64(10), object(4)\n",
            "memory usage: 4.6+ MB\n"
          ]
        }
      ]
    },
    {
      "cell_type": "code",
      "source": [],
      "metadata": {
        "id": "bEQ93_eJ9UZI"
      },
      "execution_count": null,
      "outputs": []
    },
    {
      "cell_type": "code",
      "source": [
        "df3.drop('TailNum', axis=1, inplace=True)\n",
        "df3.drop('AirTime', axis=1, inplace=True)\n",
        "df3.drop('taxiln', axis=1, inplace=True)\n",
        "df3.drop('TaxiOut', axis=1, inplace=True)\n",
        "df3.drop('CancellationCode', axis=1, inplace=True)\n",
        "df3.drop('CarrierDelay', axis=1, inplace=True)\n",
        "df3.drop('WeatherDelay', axis=1, inplace=True)\n",
        "df3.drop('NASDelay', axis=1, inplace=True)\n",
        "df3.drop('SecurityDelay', axis=1, inplace=True)\n",
        "df3.drop('LateAircraftDelay', axis=1, inplace=True)"
      ],
      "metadata": {
        "id": "zFhigLBOrZqg"
      },
      "execution_count": null,
      "outputs": []
    },
    {
      "cell_type": "code",
      "source": [
        "df3.info()"
      ],
      "metadata": {
        "colab": {
          "base_uri": "https://localhost:8080/"
        },
        "id": "0cSbCPjy98hH",
        "outputId": "6a1c7d2f-75b2-4503-9ed9-8c4791602e1c"
      },
      "execution_count": null,
      "outputs": [
        {
          "output_type": "stream",
          "name": "stdout",
          "text": [
            "<class 'pandas.core.frame.DataFrame'>\n",
            "RangeIndex: 30000 entries, 0 to 29999\n",
            "Data columns (total 20 columns):\n",
            " #   Column             Non-Null Count  Dtype  \n",
            "---  ------             --------------  -----  \n",
            " 0   Year               30000 non-null  int64  \n",
            " 1   Month              30000 non-null  int64  \n",
            " 2   DayofMonth         30000 non-null  int64  \n",
            " 3   DayofWeek          30000 non-null  int64  \n",
            " 4   DepTime            30000 non-null  float64\n",
            " 5   CRSDeptime         30000 non-null  int64  \n",
            " 6   ArrTime            30000 non-null  float64\n",
            " 7   CSRArrTime         30000 non-null  int64  \n",
            " 8   UniqueCarrier      30000 non-null  object \n",
            " 9   FlightNum          30000 non-null  int64  \n",
            " 10  ActualElapsedtime  30000 non-null  float64\n",
            " 11  CRSElapsedTime     30000 non-null  int64  \n",
            " 12  ArrDelay           30000 non-null  float64\n",
            " 13  DepDelay           30000 non-null  float64\n",
            " 14  Origin             30000 non-null  object \n",
            " 15  Dest               30000 non-null  object \n",
            " 16  Distance           30000 non-null  float64\n",
            " 17  Cancelled          30000 non-null  int64  \n",
            " 18  Diverted           30000 non-null  int64  \n",
            " 19  Delayed            30000 non-null  object \n",
            "dtypes: float64(6), int64(10), object(4)\n",
            "memory usage: 4.6+ MB\n"
          ]
        }
      ]
    },
    {
      "cell_type": "code",
      "source": [
        "import pandas as pd\n",
        "\n",
        "# List of columns to convert to float\n",
        "float_columns = ['DepTime', 'ArrTime', 'ActualElapsedtime', 'ArrDelay', 'DepDelay', 'Distance']\n",
        "\n",
        "# Convert specified columns to float\n",
        "df3[float_columns] = df3[float_columns].astype(float)\n",
        "\n",
        "# Verify the changes\n",
        "print(df3.dtypes)\n"
      ],
      "metadata": {
        "colab": {
          "base_uri": "https://localhost:8080/"
        },
        "id": "U0cvVuISDBrn",
        "outputId": "e966915c-86f9-4b73-ea57-f743ef1ae929"
      },
      "execution_count": null,
      "outputs": [
        {
          "output_type": "stream",
          "name": "stdout",
          "text": [
            "Year                   int64\n",
            "Month                  int64\n",
            "DayofMonth             int64\n",
            "DayofWeek              int64\n",
            "DepTime              float64\n",
            "CRSDeptime             int64\n",
            "ArrTime              float64\n",
            "CSRArrTime             int64\n",
            "UniqueCarrier         object\n",
            "FlightNum              int64\n",
            "ActualElapsedtime    float64\n",
            "CRSElapsedTime         int64\n",
            "ArrDelay             float64\n",
            "DepDelay             float64\n",
            "Origin                object\n",
            "Dest                  object\n",
            "Distance             float64\n",
            "taxiln                 int64\n",
            "TaxiOut                int64\n",
            "Cancelled              int64\n",
            "CancellationCode      object\n",
            "Diverted               int64\n",
            "CarrierDelay           int64\n",
            "WeatherDelay           int64\n",
            "NASDelay               int64\n",
            "SecurityDelay          int64\n",
            "LateAircraftDelay      int64\n",
            "Delayed               object\n",
            "dtype: object\n"
          ]
        }
      ]
    },
    {
      "cell_type": "code",
      "source": [
        "df4.drop('TailNum', axis=1, inplace=True)\n",
        "df4.drop('AirTime', axis=1, inplace=True)\n",
        "df4.drop('TaxiIn', axis=1, inplace=True)\n",
        "df4.drop('TaxiOut', axis=1, inplace=True)\n",
        "df4.drop('CancellationCode', axis=1, inplace=True)\n",
        "df4.drop('CarrierDelay', axis=1, inplace=True)\n",
        "df4.drop('WeatherDelay', axis=1, inplace=True)\n",
        "df4.drop('NASDelay', axis=1, inplace=True)\n",
        "df4.drop('SecurityDelay', axis=1, inplace=True)\n",
        "df4.drop('LateAircraftDelay', axis=1, inplace=True)\n"
      ],
      "metadata": {
        "id": "RPj0U4X9DAdp"
      },
      "execution_count": null,
      "outputs": []
    },
    {
      "cell_type": "code",
      "source": [
        "df4.info()"
      ],
      "metadata": {
        "colab": {
          "base_uri": "https://localhost:8080/"
        },
        "id": "vqYEK1J8FMu_",
        "outputId": "d82a829c-c5c9-4609-c6e6-9c51b8b4196e"
      },
      "execution_count": null,
      "outputs": [
        {
          "output_type": "stream",
          "name": "stdout",
          "text": [
            "<class 'pandas.core.frame.DataFrame'>\n",
            "RangeIndex: 30000 entries, 0 to 29999\n",
            "Data columns (total 19 columns):\n",
            " #   Column             Non-Null Count  Dtype  \n",
            "---  ------             --------------  -----  \n",
            " 0   Year               30000 non-null  int64  \n",
            " 1   Month              30000 non-null  int64  \n",
            " 2   DayofMonth         30000 non-null  int64  \n",
            " 3   DayOfWeek          30000 non-null  int64  \n",
            " 4   DepTime            29474 non-null  float64\n",
            " 5   CRSDepTime         30000 non-null  int64  \n",
            " 6   ArrTime            29410 non-null  float64\n",
            " 7   CRSArrTime         30000 non-null  int64  \n",
            " 8   UniqueCarrier      30000 non-null  object \n",
            " 9   FlightNum          30000 non-null  int64  \n",
            " 10  ActualElapsedTime  29410 non-null  float64\n",
            " 11  CRSElapsedTime     29978 non-null  float64\n",
            " 12  ArrDelay           29410 non-null  float64\n",
            " 13  DepDelay           29474 non-null  float64\n",
            " 14  Origin             30000 non-null  object \n",
            " 15  Dest               30000 non-null  object \n",
            " 16  Distance           30000 non-null  int64  \n",
            " 17  Cancelled          30000 non-null  int64  \n",
            " 18  Diverted           30000 non-null  int64  \n",
            "dtypes: float64(6), int64(10), object(3)\n",
            "memory usage: 4.3+ MB\n"
          ]
        }
      ]
    },
    {
      "cell_type": "code",
      "source": [
        "# Add a new column 'Delayed' based on conditions\n",
        "df4['Delayed'] = df4.apply(lambda row: 'N' if row['ArrDelay'] <= 0 and row['DepDelay'] <= 0 else 'Y', axis=1)\n",
        "\n",
        "# Display the DataFrame with the new 'Delayed' column\n",
        "df4.head()"
      ],
      "metadata": {
        "colab": {
          "base_uri": "https://localhost:8080/",
          "height": 226
        },
        "id": "GC9Gbqq8FN89",
        "outputId": "67188c97-25ec-4997-8c0c-d11696385970"
      },
      "execution_count": null,
      "outputs": [
        {
          "output_type": "execute_result",
          "data": {
            "text/plain": [
              "   Year  Month  DayofMonth  DayOfWeek  DepTime  CRSDepTime  ArrTime  \\\n",
              "0  1997      3           8          6   1444.0        1445   1610.0   \n",
              "1  1997      8           1          5    538.0         540    653.0   \n",
              "2  1997      5          23          5   1034.0        1033   1211.0   \n",
              "3  1997      8          28          4   1330.0        1330   1500.0   \n",
              "4  1997      8           2          6    730.0         730    843.0   \n",
              "\n",
              "   CRSArrTime UniqueCarrier  FlightNum  ActualElapsedTime  CRSElapsedTime  \\\n",
              "0        1615            TW        353              146.0           150.0   \n",
              "1         648            NW        219               75.0            68.0   \n",
              "2        1220            AA       1699               97.0           107.0   \n",
              "3        1449            UA       1170               90.0            79.0   \n",
              "4         843            DL       1569               73.0            73.0   \n",
              "\n",
              "   ArrDelay  DepDelay Origin Dest  Distance  Cancelled  Diverted Delayed  \n",
              "0      -5.0      -1.0    SRQ  STL       903          0         0       N  \n",
              "1       5.0      -2.0    BIS  MSP       386          0         0       Y  \n",
              "2      -9.0       1.0    DFW  STL       551          0         0       Y  \n",
              "3      11.0       0.0    BIL  DEN       455          0         0       Y  \n",
              "4       0.0       0.0    SDF  ATL       321          0         0       N  "
            ],
            "text/html": [
              "\n",
              "  <div id=\"df-3aa1762f-fb9f-4370-9de5-6745b9ea67a2\" class=\"colab-df-container\">\n",
              "    <div>\n",
              "<style scoped>\n",
              "    .dataframe tbody tr th:only-of-type {\n",
              "        vertical-align: middle;\n",
              "    }\n",
              "\n",
              "    .dataframe tbody tr th {\n",
              "        vertical-align: top;\n",
              "    }\n",
              "\n",
              "    .dataframe thead th {\n",
              "        text-align: right;\n",
              "    }\n",
              "</style>\n",
              "<table border=\"1\" class=\"dataframe\">\n",
              "  <thead>\n",
              "    <tr style=\"text-align: right;\">\n",
              "      <th></th>\n",
              "      <th>Year</th>\n",
              "      <th>Month</th>\n",
              "      <th>DayofMonth</th>\n",
              "      <th>DayOfWeek</th>\n",
              "      <th>DepTime</th>\n",
              "      <th>CRSDepTime</th>\n",
              "      <th>ArrTime</th>\n",
              "      <th>CRSArrTime</th>\n",
              "      <th>UniqueCarrier</th>\n",
              "      <th>FlightNum</th>\n",
              "      <th>ActualElapsedTime</th>\n",
              "      <th>CRSElapsedTime</th>\n",
              "      <th>ArrDelay</th>\n",
              "      <th>DepDelay</th>\n",
              "      <th>Origin</th>\n",
              "      <th>Dest</th>\n",
              "      <th>Distance</th>\n",
              "      <th>Cancelled</th>\n",
              "      <th>Diverted</th>\n",
              "      <th>Delayed</th>\n",
              "    </tr>\n",
              "  </thead>\n",
              "  <tbody>\n",
              "    <tr>\n",
              "      <th>0</th>\n",
              "      <td>1997</td>\n",
              "      <td>3</td>\n",
              "      <td>8</td>\n",
              "      <td>6</td>\n",
              "      <td>1444.0</td>\n",
              "      <td>1445</td>\n",
              "      <td>1610.0</td>\n",
              "      <td>1615</td>\n",
              "      <td>TW</td>\n",
              "      <td>353</td>\n",
              "      <td>146.0</td>\n",
              "      <td>150.0</td>\n",
              "      <td>-5.0</td>\n",
              "      <td>-1.0</td>\n",
              "      <td>SRQ</td>\n",
              "      <td>STL</td>\n",
              "      <td>903</td>\n",
              "      <td>0</td>\n",
              "      <td>0</td>\n",
              "      <td>N</td>\n",
              "    </tr>\n",
              "    <tr>\n",
              "      <th>1</th>\n",
              "      <td>1997</td>\n",
              "      <td>8</td>\n",
              "      <td>1</td>\n",
              "      <td>5</td>\n",
              "      <td>538.0</td>\n",
              "      <td>540</td>\n",
              "      <td>653.0</td>\n",
              "      <td>648</td>\n",
              "      <td>NW</td>\n",
              "      <td>219</td>\n",
              "      <td>75.0</td>\n",
              "      <td>68.0</td>\n",
              "      <td>5.0</td>\n",
              "      <td>-2.0</td>\n",
              "      <td>BIS</td>\n",
              "      <td>MSP</td>\n",
              "      <td>386</td>\n",
              "      <td>0</td>\n",
              "      <td>0</td>\n",
              "      <td>Y</td>\n",
              "    </tr>\n",
              "    <tr>\n",
              "      <th>2</th>\n",
              "      <td>1997</td>\n",
              "      <td>5</td>\n",
              "      <td>23</td>\n",
              "      <td>5</td>\n",
              "      <td>1034.0</td>\n",
              "      <td>1033</td>\n",
              "      <td>1211.0</td>\n",
              "      <td>1220</td>\n",
              "      <td>AA</td>\n",
              "      <td>1699</td>\n",
              "      <td>97.0</td>\n",
              "      <td>107.0</td>\n",
              "      <td>-9.0</td>\n",
              "      <td>1.0</td>\n",
              "      <td>DFW</td>\n",
              "      <td>STL</td>\n",
              "      <td>551</td>\n",
              "      <td>0</td>\n",
              "      <td>0</td>\n",
              "      <td>Y</td>\n",
              "    </tr>\n",
              "    <tr>\n",
              "      <th>3</th>\n",
              "      <td>1997</td>\n",
              "      <td>8</td>\n",
              "      <td>28</td>\n",
              "      <td>4</td>\n",
              "      <td>1330.0</td>\n",
              "      <td>1330</td>\n",
              "      <td>1500.0</td>\n",
              "      <td>1449</td>\n",
              "      <td>UA</td>\n",
              "      <td>1170</td>\n",
              "      <td>90.0</td>\n",
              "      <td>79.0</td>\n",
              "      <td>11.0</td>\n",
              "      <td>0.0</td>\n",
              "      <td>BIL</td>\n",
              "      <td>DEN</td>\n",
              "      <td>455</td>\n",
              "      <td>0</td>\n",
              "      <td>0</td>\n",
              "      <td>Y</td>\n",
              "    </tr>\n",
              "    <tr>\n",
              "      <th>4</th>\n",
              "      <td>1997</td>\n",
              "      <td>8</td>\n",
              "      <td>2</td>\n",
              "      <td>6</td>\n",
              "      <td>730.0</td>\n",
              "      <td>730</td>\n",
              "      <td>843.0</td>\n",
              "      <td>843</td>\n",
              "      <td>DL</td>\n",
              "      <td>1569</td>\n",
              "      <td>73.0</td>\n",
              "      <td>73.0</td>\n",
              "      <td>0.0</td>\n",
              "      <td>0.0</td>\n",
              "      <td>SDF</td>\n",
              "      <td>ATL</td>\n",
              "      <td>321</td>\n",
              "      <td>0</td>\n",
              "      <td>0</td>\n",
              "      <td>N</td>\n",
              "    </tr>\n",
              "  </tbody>\n",
              "</table>\n",
              "</div>\n",
              "    <div class=\"colab-df-buttons\">\n",
              "\n",
              "  <div class=\"colab-df-container\">\n",
              "    <button class=\"colab-df-convert\" onclick=\"convertToInteractive('df-3aa1762f-fb9f-4370-9de5-6745b9ea67a2')\"\n",
              "            title=\"Convert this dataframe to an interactive table.\"\n",
              "            style=\"display:none;\">\n",
              "\n",
              "  <svg xmlns=\"http://www.w3.org/2000/svg\" height=\"24px\" viewBox=\"0 -960 960 960\">\n",
              "    <path d=\"M120-120v-720h720v720H120Zm60-500h600v-160H180v160Zm220 220h160v-160H400v160Zm0 220h160v-160H400v160ZM180-400h160v-160H180v160Zm440 0h160v-160H620v160ZM180-180h160v-160H180v160Zm440 0h160v-160H620v160Z\"/>\n",
              "  </svg>\n",
              "    </button>\n",
              "\n",
              "  <style>\n",
              "    .colab-df-container {\n",
              "      display:flex;\n",
              "      gap: 12px;\n",
              "    }\n",
              "\n",
              "    .colab-df-convert {\n",
              "      background-color: #E8F0FE;\n",
              "      border: none;\n",
              "      border-radius: 50%;\n",
              "      cursor: pointer;\n",
              "      display: none;\n",
              "      fill: #1967D2;\n",
              "      height: 32px;\n",
              "      padding: 0 0 0 0;\n",
              "      width: 32px;\n",
              "    }\n",
              "\n",
              "    .colab-df-convert:hover {\n",
              "      background-color: #E2EBFA;\n",
              "      box-shadow: 0px 1px 2px rgba(60, 64, 67, 0.3), 0px 1px 3px 1px rgba(60, 64, 67, 0.15);\n",
              "      fill: #174EA6;\n",
              "    }\n",
              "\n",
              "    .colab-df-buttons div {\n",
              "      margin-bottom: 4px;\n",
              "    }\n",
              "\n",
              "    [theme=dark] .colab-df-convert {\n",
              "      background-color: #3B4455;\n",
              "      fill: #D2E3FC;\n",
              "    }\n",
              "\n",
              "    [theme=dark] .colab-df-convert:hover {\n",
              "      background-color: #434B5C;\n",
              "      box-shadow: 0px 1px 3px 1px rgba(0, 0, 0, 0.15);\n",
              "      filter: drop-shadow(0px 1px 2px rgba(0, 0, 0, 0.3));\n",
              "      fill: #FFFFFF;\n",
              "    }\n",
              "  </style>\n",
              "\n",
              "    <script>\n",
              "      const buttonEl =\n",
              "        document.querySelector('#df-3aa1762f-fb9f-4370-9de5-6745b9ea67a2 button.colab-df-convert');\n",
              "      buttonEl.style.display =\n",
              "        google.colab.kernel.accessAllowed ? 'block' : 'none';\n",
              "\n",
              "      async function convertToInteractive(key) {\n",
              "        const element = document.querySelector('#df-3aa1762f-fb9f-4370-9de5-6745b9ea67a2');\n",
              "        const dataTable =\n",
              "          await google.colab.kernel.invokeFunction('convertToInteractive',\n",
              "                                                    [key], {});\n",
              "        if (!dataTable) return;\n",
              "\n",
              "        const docLinkHtml = 'Like what you see? Visit the ' +\n",
              "          '<a target=\"_blank\" href=https://colab.research.google.com/notebooks/data_table.ipynb>data table notebook</a>'\n",
              "          + ' to learn more about interactive tables.';\n",
              "        element.innerHTML = '';\n",
              "        dataTable['output_type'] = 'display_data';\n",
              "        await google.colab.output.renderOutput(dataTable, element);\n",
              "        const docLink = document.createElement('div');\n",
              "        docLink.innerHTML = docLinkHtml;\n",
              "        element.appendChild(docLink);\n",
              "      }\n",
              "    </script>\n",
              "  </div>\n",
              "\n",
              "\n",
              "<div id=\"df-ca5ad4b2-f14b-4b6e-8fa0-47cd7f466554\">\n",
              "  <button class=\"colab-df-quickchart\" onclick=\"quickchart('df-ca5ad4b2-f14b-4b6e-8fa0-47cd7f466554')\"\n",
              "            title=\"Suggest charts\"\n",
              "            style=\"display:none;\">\n",
              "\n",
              "<svg xmlns=\"http://www.w3.org/2000/svg\" height=\"24px\"viewBox=\"0 0 24 24\"\n",
              "     width=\"24px\">\n",
              "    <g>\n",
              "        <path d=\"M19 3H5c-1.1 0-2 .9-2 2v14c0 1.1.9 2 2 2h14c1.1 0 2-.9 2-2V5c0-1.1-.9-2-2-2zM9 17H7v-7h2v7zm4 0h-2V7h2v10zm4 0h-2v-4h2v4z\"/>\n",
              "    </g>\n",
              "</svg>\n",
              "  </button>\n",
              "\n",
              "<style>\n",
              "  .colab-df-quickchart {\n",
              "      --bg-color: #E8F0FE;\n",
              "      --fill-color: #1967D2;\n",
              "      --hover-bg-color: #E2EBFA;\n",
              "      --hover-fill-color: #174EA6;\n",
              "      --disabled-fill-color: #AAA;\n",
              "      --disabled-bg-color: #DDD;\n",
              "  }\n",
              "\n",
              "  [theme=dark] .colab-df-quickchart {\n",
              "      --bg-color: #3B4455;\n",
              "      --fill-color: #D2E3FC;\n",
              "      --hover-bg-color: #434B5C;\n",
              "      --hover-fill-color: #FFFFFF;\n",
              "      --disabled-bg-color: #3B4455;\n",
              "      --disabled-fill-color: #666;\n",
              "  }\n",
              "\n",
              "  .colab-df-quickchart {\n",
              "    background-color: var(--bg-color);\n",
              "    border: none;\n",
              "    border-radius: 50%;\n",
              "    cursor: pointer;\n",
              "    display: none;\n",
              "    fill: var(--fill-color);\n",
              "    height: 32px;\n",
              "    padding: 0;\n",
              "    width: 32px;\n",
              "  }\n",
              "\n",
              "  .colab-df-quickchart:hover {\n",
              "    background-color: var(--hover-bg-color);\n",
              "    box-shadow: 0 1px 2px rgba(60, 64, 67, 0.3), 0 1px 3px 1px rgba(60, 64, 67, 0.15);\n",
              "    fill: var(--button-hover-fill-color);\n",
              "  }\n",
              "\n",
              "  .colab-df-quickchart-complete:disabled,\n",
              "  .colab-df-quickchart-complete:disabled:hover {\n",
              "    background-color: var(--disabled-bg-color);\n",
              "    fill: var(--disabled-fill-color);\n",
              "    box-shadow: none;\n",
              "  }\n",
              "\n",
              "  .colab-df-spinner {\n",
              "    border: 2px solid var(--fill-color);\n",
              "    border-color: transparent;\n",
              "    border-bottom-color: var(--fill-color);\n",
              "    animation:\n",
              "      spin 1s steps(1) infinite;\n",
              "  }\n",
              "\n",
              "  @keyframes spin {\n",
              "    0% {\n",
              "      border-color: transparent;\n",
              "      border-bottom-color: var(--fill-color);\n",
              "      border-left-color: var(--fill-color);\n",
              "    }\n",
              "    20% {\n",
              "      border-color: transparent;\n",
              "      border-left-color: var(--fill-color);\n",
              "      border-top-color: var(--fill-color);\n",
              "    }\n",
              "    30% {\n",
              "      border-color: transparent;\n",
              "      border-left-color: var(--fill-color);\n",
              "      border-top-color: var(--fill-color);\n",
              "      border-right-color: var(--fill-color);\n",
              "    }\n",
              "    40% {\n",
              "      border-color: transparent;\n",
              "      border-right-color: var(--fill-color);\n",
              "      border-top-color: var(--fill-color);\n",
              "    }\n",
              "    60% {\n",
              "      border-color: transparent;\n",
              "      border-right-color: var(--fill-color);\n",
              "    }\n",
              "    80% {\n",
              "      border-color: transparent;\n",
              "      border-right-color: var(--fill-color);\n",
              "      border-bottom-color: var(--fill-color);\n",
              "    }\n",
              "    90% {\n",
              "      border-color: transparent;\n",
              "      border-bottom-color: var(--fill-color);\n",
              "    }\n",
              "  }\n",
              "</style>\n",
              "\n",
              "  <script>\n",
              "    async function quickchart(key) {\n",
              "      const quickchartButtonEl =\n",
              "        document.querySelector('#' + key + ' button');\n",
              "      quickchartButtonEl.disabled = true;  // To prevent multiple clicks.\n",
              "      quickchartButtonEl.classList.add('colab-df-spinner');\n",
              "      try {\n",
              "        const charts = await google.colab.kernel.invokeFunction(\n",
              "            'suggestCharts', [key], {});\n",
              "      } catch (error) {\n",
              "        console.error('Error during call to suggestCharts:', error);\n",
              "      }\n",
              "      quickchartButtonEl.classList.remove('colab-df-spinner');\n",
              "      quickchartButtonEl.classList.add('colab-df-quickchart-complete');\n",
              "    }\n",
              "    (() => {\n",
              "      let quickchartButtonEl =\n",
              "        document.querySelector('#df-ca5ad4b2-f14b-4b6e-8fa0-47cd7f466554 button');\n",
              "      quickchartButtonEl.style.display =\n",
              "        google.colab.kernel.accessAllowed ? 'block' : 'none';\n",
              "    })();\n",
              "  </script>\n",
              "</div>\n",
              "    </div>\n",
              "  </div>\n"
            ]
          },
          "metadata": {},
          "execution_count": 18
        }
      ]
    },
    {
      "cell_type": "code",
      "source": [
        "df4['DepTime'] = df4['DepTime'].fillna(df4['DepTime'].mean())\n",
        "df4['ArrTime'] = df4['ArrTime'].fillna(df4['ArrTime'].mean())\n",
        "df4['ActualElapsedTime'] = df4['ActualElapsedTime'].fillna(df4['ActualElapsedTime'].mean())\n",
        "df4['CRSElapsedTime'] = df4['CRSElapsedTime'].fillna(df4['CRSElapsedTime'].mean())\n",
        "df4['ArrDelay'] = df4['ArrDelay'].fillna(df4['ArrDelay'].mean())\n",
        "df4['DepDelay'] = df4['DepDelay'].fillna(df4['DepDelay'].mean())\n"
      ],
      "metadata": {
        "id": "xhBCONpVG1WY"
      },
      "execution_count": null,
      "outputs": []
    },
    {
      "cell_type": "code",
      "source": [
        "df4['Distance'] = df4['Distance'].astype(float)\n",
        "\n",
        "# Convert 'CRSElapsedTime' column to int\n",
        "df4['CRSElapsedTime'] = df4['CRSElapsedTime'].astype(int)\n"
      ],
      "metadata": {
        "id": "I-qexlf6GEN5"
      },
      "execution_count": null,
      "outputs": []
    },
    {
      "cell_type": "code",
      "source": [
        "df3.rename(columns={'CSRArrTime': 'CRSArrTime'}, inplace=True)"
      ],
      "metadata": {
        "id": "e2B6rbQYHuwm"
      },
      "execution_count": null,
      "outputs": []
    },
    {
      "cell_type": "code",
      "source": [
        "df3.rename(columns={'DayofWeek': 'DayOfWeek'}, inplace=True)"
      ],
      "metadata": {
        "id": "usEl7Hvmr3kg"
      },
      "execution_count": null,
      "outputs": []
    },
    {
      "cell_type": "code",
      "source": [
        "df3.rename(columns={'CRSDeptime': 'CRSDepTime'}, inplace=True)"
      ],
      "metadata": {
        "id": "6-xXi90SsATb"
      },
      "execution_count": null,
      "outputs": []
    },
    {
      "cell_type": "code",
      "source": [
        "df3.info()"
      ],
      "metadata": {
        "colab": {
          "base_uri": "https://localhost:8080/"
        },
        "id": "mfNONRGIH4ls",
        "outputId": "b7fab5fb-72a0-4d71-c2f3-cb7b963cf4cf"
      },
      "execution_count": null,
      "outputs": [
        {
          "output_type": "stream",
          "name": "stdout",
          "text": [
            "<class 'pandas.core.frame.DataFrame'>\n",
            "RangeIndex: 30000 entries, 0 to 29999\n",
            "Data columns (total 20 columns):\n",
            " #   Column             Non-Null Count  Dtype  \n",
            "---  ------             --------------  -----  \n",
            " 0   Year               30000 non-null  int64  \n",
            " 1   Month              30000 non-null  int64  \n",
            " 2   DayofMonth         30000 non-null  int64  \n",
            " 3   DayOfWeek          30000 non-null  int64  \n",
            " 4   DepTime            30000 non-null  float64\n",
            " 5   CRSDepTime         30000 non-null  int64  \n",
            " 6   ArrTime            30000 non-null  float64\n",
            " 7   CRSArrTime         30000 non-null  int64  \n",
            " 8   UniqueCarrier      30000 non-null  object \n",
            " 9   FlightNum          30000 non-null  int64  \n",
            " 10  ActualElapsedTime  30000 non-null  float64\n",
            " 11  CRSElapsedTime     30000 non-null  int64  \n",
            " 12  ArrDelay           30000 non-null  float64\n",
            " 13  DepDelay           30000 non-null  float64\n",
            " 14  Origin             30000 non-null  object \n",
            " 15  Dest               30000 non-null  object \n",
            " 16  Distance           30000 non-null  float64\n",
            " 17  Cancelled          30000 non-null  int64  \n",
            " 18  Diverted           30000 non-null  int64  \n",
            " 19  Delayed            30000 non-null  object \n",
            "dtypes: float64(6), int64(10), object(4)\n",
            "memory usage: 4.6+ MB\n"
          ]
        }
      ]
    },
    {
      "cell_type": "code",
      "source": [
        "df3.rename(columns={'ActualElapsedtime': 'ActualElapsedTime'}, inplace=True)"
      ],
      "metadata": {
        "id": "WOhjMPueHyIs"
      },
      "execution_count": null,
      "outputs": []
    },
    {
      "cell_type": "code",
      "source": [
        "df5 = pd.read_csv('1993result.csv')"
      ],
      "metadata": {
        "id": "i4KnECQesvwv"
      },
      "execution_count": null,
      "outputs": []
    },
    {
      "cell_type": "code",
      "source": [
        "df5.info()"
      ],
      "metadata": {
        "colab": {
          "base_uri": "https://localhost:8080/"
        },
        "id": "iYCLzkcrsxXp",
        "outputId": "2c6bb9fa-323c-49f9-a03e-8c124ced8475"
      },
      "execution_count": null,
      "outputs": [
        {
          "output_type": "stream",
          "name": "stdout",
          "text": [
            "<class 'pandas.core.frame.DataFrame'>\n",
            "RangeIndex: 30000 entries, 0 to 29999\n",
            "Data columns (total 20 columns):\n",
            " #   Column             Non-Null Count  Dtype  \n",
            "---  ------             --------------  -----  \n",
            " 0   Year               30000 non-null  int64  \n",
            " 1   Month              30000 non-null  int64  \n",
            " 2   DayofMonth         30000 non-null  int64  \n",
            " 3   DayOfWeek          30000 non-null  int64  \n",
            " 4   DepTime            30000 non-null  float64\n",
            " 5   CRSDepTime         30000 non-null  int64  \n",
            " 6   ArrTime            30000 non-null  float64\n",
            " 7   CRSArrTime         30000 non-null  int64  \n",
            " 8   UniqueCarrier      30000 non-null  object \n",
            " 9   FlightNum          30000 non-null  int64  \n",
            " 10  ActualElapsedTime  30000 non-null  float64\n",
            " 11  CRSElapsedTime     30000 non-null  int64  \n",
            " 12  ArrDelay           30000 non-null  float64\n",
            " 13  DepDelay           30000 non-null  float64\n",
            " 14  Origin             30000 non-null  object \n",
            " 15  Dest               30000 non-null  object \n",
            " 16  Distance           30000 non-null  float64\n",
            " 17  Cancelled          30000 non-null  int64  \n",
            " 18  Diverted           30000 non-null  int64  \n",
            " 19  Delayed            30000 non-null  object \n",
            "dtypes: float64(6), int64(10), object(4)\n",
            "memory usage: 4.6+ MB\n"
          ]
        }
      ]
    },
    {
      "cell_type": "code",
      "source": [
        "import pandas as pd\n",
        "\n",
        "# Combine all DataFrames\n",
        "combined_df = pd.concat([df, df1, df2, df3, df4, df5], ignore_index=True)\n",
        "\n",
        "# Verify the changes\n",
        "print(combined_df.info())\n"
      ],
      "metadata": {
        "colab": {
          "base_uri": "https://localhost:8080/"
        },
        "id": "nCO34eeEIPaj",
        "outputId": "fa0496d5-63ea-433c-8e08-4165045160e7"
      },
      "execution_count": null,
      "outputs": [
        {
          "output_type": "stream",
          "name": "stdout",
          "text": [
            "<class 'pandas.core.frame.DataFrame'>\n",
            "RangeIndex: 180000 entries, 0 to 179999\n",
            "Data columns (total 20 columns):\n",
            " #   Column             Non-Null Count   Dtype  \n",
            "---  ------             --------------   -----  \n",
            " 0   Year               180000 non-null  int64  \n",
            " 1   Month              180000 non-null  int64  \n",
            " 2   DayofMonth         180000 non-null  int64  \n",
            " 3   DayOfWeek          180000 non-null  int64  \n",
            " 4   DepTime            180000 non-null  float64\n",
            " 5   CRSDepTime         180000 non-null  int64  \n",
            " 6   ArrTime            180000 non-null  float64\n",
            " 7   CRSArrTime         180000 non-null  int64  \n",
            " 8   UniqueCarrier      180000 non-null  object \n",
            " 9   FlightNum          180000 non-null  int64  \n",
            " 10  ActualElapsedTime  180000 non-null  float64\n",
            " 11  CRSElapsedTime     180000 non-null  int64  \n",
            " 12  ArrDelay           180000 non-null  float64\n",
            " 13  DepDelay           180000 non-null  float64\n",
            " 14  Origin             180000 non-null  object \n",
            " 15  Dest               180000 non-null  object \n",
            " 16  Distance           180000 non-null  float64\n",
            " 17  Cancelled          180000 non-null  int64  \n",
            " 18  Diverted           180000 non-null  int64  \n",
            " 19  Delayed            180000 non-null  object \n",
            "dtypes: float64(6), int64(10), object(4)\n",
            "memory usage: 27.5+ MB\n",
            "None\n"
          ]
        }
      ]
    },
    {
      "cell_type": "code",
      "source": [
        "combined_df.to_csv('combined_finaldata.csv', index=False)"
      ],
      "metadata": {
        "id": "OxsQAEtlJJWt"
      },
      "execution_count": null,
      "outputs": []
    }
  ]
}