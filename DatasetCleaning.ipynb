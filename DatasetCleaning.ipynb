{
  "nbformat": 4,
  "nbformat_minor": 0,
  "metadata": {
    "colab": {
      "provenance": [],
      "authorship_tag": "ABX9TyMfuhTnh2dafWjpH8u3o8Wr",
      "include_colab_link": true
    },
    "kernelspec": {
      "name": "python3",
      "display_name": "Python 3"
    },
    "language_info": {
      "name": "python"
    }
  },
  "cells": [
    {
      "cell_type": "markdown",
      "metadata": {
        "id": "view-in-github",
        "colab_type": "text"
      },
      "source": [
        "<a href=\"https://colab.research.google.com/github/shehbaz1033/BigDataAnalysisProject/blob/main/DatasetCleaning.ipynb\" target=\"_parent\"><img src=\"https://colab.research.google.com/assets/colab-badge.svg\" alt=\"Open In Colab\"/></a>"
      ]
    },
    {
      "cell_type": "code",
      "execution_count": null,
      "metadata": {
        "id": "qo2Hmj5ohRZk"
      },
      "outputs": [],
      "source": [
        "import pandas as pd\n",
        "\n",
        "df = pd.read_csv('1987.csv')\n"
      ]
    },
    {
      "cell_type": "code",
      "source": [
        "record_count = len(df)"
      ],
      "metadata": {
        "colab": {
          "base_uri": "https://localhost:8080/"
        },
        "id": "alHZ8VBcjQoS",
        "outputId": "1a1bc9d4-b30e-4579-d4e2-f97696636451"
      },
      "execution_count": null,
      "outputs": [
        {
          "output_type": "execute_result",
          "data": {
            "text/plain": [
              "1311826"
            ]
          },
          "metadata": {},
          "execution_count": 26
        }
      ]
    },
    {
      "cell_type": "code",
      "source": [
        "summary = df.describe()\n",
        "print(summary)"
      ],
      "metadata": {
        "colab": {
          "base_uri": "https://localhost:8080/"
        },
        "id": "veT5m_QOpwA8",
        "outputId": "fdc19c22-bfa4-4a6e-8161-e98477d7532e"
      },
      "execution_count": null,
      "outputs": [
        {
          "output_type": "stream",
          "name": "stdout",
          "text": [
            "            Year         Month    DayofMonth     DayOfWeek       DepTime  \\\n",
            "count  1311826.0  1.311826e+06  1.311826e+06  1.311826e+06  1.311826e+06   \n",
            "mean      1987.0  1.099374e+01  1.571761e+01  3.949043e+00  1.369276e+03   \n",
            "std          0.0  8.232012e-01  8.835640e+00  1.986290e+00  4.751129e+02   \n",
            "min       1987.0  1.000000e+01  1.000000e+00  1.000000e+00  1.000000e+00   \n",
            "25%       1987.0  1.000000e+01  8.000000e+00  2.000000e+00  9.500000e+02   \n",
            "50%       1987.0  1.100000e+01  1.600000e+01  4.000000e+00  1.354000e+03   \n",
            "75%       1987.0  1.200000e+01  2.300000e+01  6.000000e+00  1.747000e+03   \n",
            "max       1987.0  1.200000e+01  3.100000e+01  7.000000e+00  2.400000e+03   \n",
            "\n",
            "         CRSDepTime       ArrTime    CRSArrTime     FlightNum  TailNum  ...  \\\n",
            "count  1.311826e+06  1.311826e+06  1.311826e+06  1.311826e+06      0.0  ...   \n",
            "mean   1.361131e+03  1.493152e+03  1.491052e+03  6.701427e+02      NaN  ...   \n",
            "std    4.719701e+02  4.942628e+02  4.868002e+02  5.145510e+02      NaN  ...   \n",
            "min    1.000000e+00  1.000000e+00  1.000000e+00  1.000000e+00      NaN  ...   \n",
            "25%    9.400000e+02  1.121000e+03  1.115000e+03  2.910000e+02      NaN  ...   \n",
            "50%    1.338000e+03  1.512000e+03  1.519000e+03  5.600000e+02      NaN  ...   \n",
            "75%    1.742000e+03  1.914000e+03  1.912000e+03  8.940000e+02      NaN  ...   \n",
            "max    2.359000e+03  2.400000e+03  2.400000e+03  6.282000e+03      NaN  ...   \n",
            "\n",
            "       TaxiIn  TaxiOut     Cancelled  CancellationCode      Diverted  \\\n",
            "count     0.0      0.0  1.311826e+06               0.0  1.311826e+06   \n",
            "mean      NaN      NaN  1.500580e-02               NaN  2.908160e-03   \n",
            "std       NaN      NaN  1.215756e-01               NaN  5.384891e-02   \n",
            "min       NaN      NaN  0.000000e+00               NaN  0.000000e+00   \n",
            "25%       NaN      NaN  0.000000e+00               NaN  0.000000e+00   \n",
            "50%       NaN      NaN  0.000000e+00               NaN  0.000000e+00   \n",
            "75%       NaN      NaN  0.000000e+00               NaN  0.000000e+00   \n",
            "max       NaN      NaN  1.000000e+00               NaN  1.000000e+00   \n",
            "\n",
            "       CarrierDelay  WeatherDelay  NASDelay  SecurityDelay  LateAircraftDelay  \n",
            "count           0.0           0.0       0.0            0.0                0.0  \n",
            "mean            NaN           NaN       NaN            NaN                NaN  \n",
            "std             NaN           NaN       NaN            NaN                NaN  \n",
            "min             NaN           NaN       NaN            NaN                NaN  \n",
            "25%             NaN           NaN       NaN            NaN                NaN  \n",
            "50%             NaN           NaN       NaN            NaN                NaN  \n",
            "75%             NaN           NaN       NaN            NaN                NaN  \n",
            "max             NaN           NaN       NaN            NaN                NaN  \n",
            "\n",
            "[8 rows x 26 columns]\n"
          ]
        }
      ]
    },
    {
      "cell_type": "code",
      "source": [
        "null_count_per_column = df.isna().sum()\n",
        "\n",
        "# Display the result\n",
        "print(\"Number of null values per column:\")\n",
        "print(null_count_per_column)"
      ],
      "metadata": {
        "colab": {
          "base_uri": "https://localhost:8080/"
        },
        "id": "OnV1-0KbqJ09",
        "outputId": "c1247d2b-a764-4cf8-822d-3d611f98cf71"
      },
      "execution_count": null,
      "outputs": [
        {
          "output_type": "stream",
          "name": "stdout",
          "text": [
            "Number of null values per column:\n",
            "Year                       0\n",
            "Month                      0\n",
            "DayofMonth                 0\n",
            "DayOfWeek                  0\n",
            "DepTime                    0\n",
            "CRSDepTime                 0\n",
            "ArrTime                    0\n",
            "CRSArrTime                 0\n",
            "UniqueCarrier              0\n",
            "FlightNum                  0\n",
            "TailNum              1311826\n",
            "ActualElapsedTime          0\n",
            "CRSElapsedTime             0\n",
            "AirTime              1311826\n",
            "ArrDelay                   0\n",
            "DepDelay                   0\n",
            "Origin                     0\n",
            "Dest                       0\n",
            "Distance                   0\n",
            "TaxiIn               1311826\n",
            "TaxiOut              1311826\n",
            "Cancelled                  0\n",
            "CancellationCode     1311826\n",
            "Diverted                   0\n",
            "CarrierDelay         1311826\n",
            "WeatherDelay         1311826\n",
            "NASDelay             1311826\n",
            "SecurityDelay        1311826\n",
            "LateAircraftDelay    1311826\n",
            "dtype: int64\n"
          ]
        }
      ]
    },
    {
      "cell_type": "code",
      "source": [
        "# Fill NaN values in a specific column ('column_name') with the mean of that column\n",
        "df['DepTime'] = df['DepTime'].fillna(df['DepTime'].mean())\n",
        "df['ArrTime'] = df['ArrTime'].fillna(df['ArrTime'].mean())\n",
        "df['ActualElapsedTime'] = df['ActualElapsedTime'].fillna(df['ActualElapsedTime'].mean())\n",
        "df['CRSElapsedTime'] = df['CRSElapsedTime'].fillna(df['CRSElapsedTime'].mean())\n",
        "df['ArrDelay'] = df['ArrDelay'].fillna(df['ArrDelay'].mean())\n",
        "df['DepDelay'] = df['DepDelay'].fillna(df['DepDelay'].mean())\n",
        "\n",
        "\n"
      ],
      "metadata": {
        "id": "T_sC_bkEtO28"
      },
      "execution_count": null,
      "outputs": []
    },
    {
      "cell_type": "code",
      "source": [
        "df.to_csv('1987_cleaned.csv', index=False)"
      ],
      "metadata": {
        "id": "sWnXIeFrxKZy"
      },
      "execution_count": null,
      "outputs": []
    },
    {
      "cell_type": "code",
      "source": [
        "df.info()"
      ],
      "metadata": {
        "colab": {
          "base_uri": "https://localhost:8080/"
        },
        "id": "jI5gV8Gd-avs",
        "outputId": "26569267-e8fb-497b-cd09-3fc66a9b44af"
      },
      "execution_count": null,
      "outputs": [
        {
          "output_type": "stream",
          "name": "stdout",
          "text": [
            "<class 'pandas.core.frame.DataFrame'>\n",
            "RangeIndex: 1311826 entries, 0 to 1311825\n",
            "Data columns (total 29 columns):\n",
            " #   Column             Non-Null Count    Dtype  \n",
            "---  ------             --------------    -----  \n",
            " 0   Year               1311826 non-null  int64  \n",
            " 1   Month              1311826 non-null  int64  \n",
            " 2   DayofMonth         1311826 non-null  int64  \n",
            " 3   DayOfWeek          1311826 non-null  int64  \n",
            " 4   DepTime            1311826 non-null  float64\n",
            " 5   CRSDepTime         1311826 non-null  int64  \n",
            " 6   ArrTime            1311826 non-null  float64\n",
            " 7   CRSArrTime         1311826 non-null  int64  \n",
            " 8   UniqueCarrier      1311826 non-null  object \n",
            " 9   FlightNum          1311826 non-null  int64  \n",
            " 10  TailNum            0 non-null        float64\n",
            " 11  ActualElapsedTime  1311826 non-null  float64\n",
            " 12  CRSElapsedTime     1311826 non-null  int64  \n",
            " 13  AirTime            0 non-null        float64\n",
            " 14  ArrDelay           1311826 non-null  float64\n",
            " 15  DepDelay           1311826 non-null  float64\n",
            " 16  Origin             1311826 non-null  object \n",
            " 17  Dest               1311826 non-null  object \n",
            " 18  Distance           1311826 non-null  float64\n",
            " 19  TaxiIn             0 non-null        float64\n",
            " 20  TaxiOut            0 non-null        float64\n",
            " 21  Cancelled          1311826 non-null  int64  \n",
            " 22  CancellationCode   0 non-null        float64\n",
            " 23  Diverted           1311826 non-null  int64  \n",
            " 24  CarrierDelay       0 non-null        float64\n",
            " 25  WeatherDelay       0 non-null        float64\n",
            " 26  NASDelay           0 non-null        float64\n",
            " 27  SecurityDelay      0 non-null        float64\n",
            " 28  LateAircraftDelay  0 non-null        float64\n",
            "dtypes: float64(16), int64(10), object(3)\n",
            "memory usage: 290.2+ MB\n"
          ]
        }
      ]
    },
    {
      "cell_type": "code",
      "source": [],
      "metadata": {
        "id": "KLoZI85s-cYw"
      },
      "execution_count": null,
      "outputs": []
    }
  ]
}